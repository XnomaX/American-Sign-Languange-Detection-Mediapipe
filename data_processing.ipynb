{
 "cells": [
  {
   "cell_type": "code",
   "execution_count": 11,
   "metadata": {},
   "outputs": [],
   "source": [
    "import os\n",
    "import cv2\n",
    "import random\n",
    "import pickle\n",
    "import mediapipe as mp\n",
    "from sklearn.preprocessing import LabelEncoder\n",
    "import matplotlib.pyplot as plt"
   ]
  },
  {
   "cell_type": "code",
   "execution_count": 12,
   "metadata": {},
   "outputs": [],
   "source": [
    "mp_hands = mp.solutions.hands\n",
    "mp_drawing = mp.solutions.drawing_utils\n",
    "mp_drawing_styles = mp.solutions.drawing_styles\n",
    "\n",
    "hands = mp_hands.Hands(static_image_mode=True, min_detection_confidence=0.3)"
   ]
  },
  {
   "cell_type": "code",
   "execution_count": 13,
   "metadata": {},
   "outputs": [
    {
     "name": "stdout",
     "output_type": "stream",
     "text": [
      "Folder '0' contains 70 images.\n",
      "Folder '1' contains 70 images.\n",
      "Folder '10' contains 70 images.\n",
      "Folder '11' contains 70 images.\n",
      "Folder '12' contains 70 images.\n",
      "Folder '13' contains 70 images.\n",
      "Folder '14' contains 70 images.\n",
      "Folder '15' contains 70 images.\n",
      "Folder '16' contains 70 images.\n",
      "Folder '17' contains 70 images.\n",
      "Folder '18' contains 70 images.\n",
      "Folder '19' contains 70 images.\n",
      "Folder '2' contains 70 images.\n",
      "Folder '20' contains 70 images.\n",
      "Folder '21' contains 70 images.\n",
      "Folder '22' contains 70 images.\n",
      "Folder '23' contains 70 images.\n",
      "Folder '24' contains 70 images.\n",
      "Folder '25' contains 70 images.\n",
      "Folder '26' contains 70 images.\n",
      "Folder '27' contains 70 images.\n",
      "Folder '28' contains 70 images.\n",
      "Folder '29' contains 65 images.\n",
      "Folder '3' contains 70 images.\n",
      "Folder '30' contains 70 images.\n",
      "Folder '31' contains 70 images.\n",
      "Folder '32' contains 70 images.\n",
      "Folder '33' contains 70 images.\n",
      "Folder '34' contains 70 images.\n",
      "Folder '35' contains 70 images.\n",
      "Folder '4' contains 70 images.\n",
      "Folder '5' contains 70 images.\n",
      "Folder '6' contains 70 images.\n",
      "Folder '7' contains 70 images.\n",
      "Folder '8' contains 70 images.\n",
      "Folder '9' contains 70 images.\n"
     ]
    }
   ],
   "source": [
    "DATA_DIR = './data'\n",
    "\n",
    "def count_images_in_folders(data_dir):\n",
    "    for dir_ in os.listdir(data_dir):\n",
    "        dir_path = os.path.join(data_dir, dir_)\n",
    "        if os.path.isdir(dir_path):\n",
    "            image_count = 0\n",
    "            for img_path in os.listdir(dir_path):\n",
    "                img_full_path = os.path.join(dir_path, img_path)\n",
    "                if os.path.isfile(img_full_path) and any(img_path.endswith(ext) for ext in ['.png', '.jpg', '.jpeg', '.gif', '.bmp']):\n",
    "                    image_count += 1\n",
    "            print(f\"Folder '{dir_}' contains {image_count} images.\")\n",
    "\n",
    "# Ganti 'DATA_DIR' dengan path ke direktori yang ingin Anda cek\n",
    "count_images_in_folders(DATA_DIR)"
   ]
  },
  {
   "cell_type": "code",
   "execution_count": 15,
   "metadata": {},
   "outputs": [],
   "source": [
    "DATA_DIR = './data'\n",
    "label_encoder = LabelEncoder()\n",
    "data = []\n",
    "labels = []\n",
    "for dir_ in os.listdir(DATA_DIR):\n",
    "    for img_path in os.listdir(os.path.join(DATA_DIR, dir_)):\n",
    "        data_aux = []\n",
    "\n",
    "        x_ = []\n",
    "        y_ = []\n",
    "\n",
    "        img = cv2.imread(os.path.join(DATA_DIR, dir_, img_path))\n",
    "        img_rgb = cv2.cvtColor(img, cv2.COLOR_BGR2RGB)\n",
    "\n",
    "        results = hands.process(img_rgb)\n",
    "        if results.multi_hand_landmarks:\n",
    "            for hand_landmarks in results.multi_hand_landmarks:\n",
    "                for i in range(len(hand_landmarks.landmark)):\n",
    "                    x = hand_landmarks.landmark[i].x\n",
    "                    y = hand_landmarks.landmark[i].y\n",
    "\n",
    "                    x_.append(x)\n",
    "                    y_.append(y)\n",
    "\n",
    "                for i in range(len(hand_landmarks.landmark)):\n",
    "                    x = hand_landmarks.landmark[i].x\n",
    "                    y = hand_landmarks.landmark[i].y\n",
    "                    data_aux.append(x - min(x_))\n",
    "                    data_aux.append(y - min(y_))\n",
    "           \n",
    "            if len(data_aux) == 42:    \n",
    "                data.append(data_aux)\n",
    "                labels.append(dir_)\n",
    "\n"
   ]
  },
  {
   "cell_type": "code",
   "execution_count": 16,
   "metadata": {},
   "outputs": [],
   "source": [
    "f = open('data.pickle', 'wb')\n",
    "pickle.dump({'data': data, 'labels': labels}, f)\n",
    "f.close()"
   ]
  }
 ],
 "metadata": {
  "kernelspec": {
   "display_name": "rps",
   "language": "python",
   "name": "python3"
  },
  "language_info": {
   "codemirror_mode": {
    "name": "ipython",
    "version": 3
   },
   "file_extension": ".py",
   "mimetype": "text/x-python",
   "name": "python",
   "nbconvert_exporter": "python",
   "pygments_lexer": "ipython3",
   "version": "3.8.18"
  }
 },
 "nbformat": 4,
 "nbformat_minor": 2
}
